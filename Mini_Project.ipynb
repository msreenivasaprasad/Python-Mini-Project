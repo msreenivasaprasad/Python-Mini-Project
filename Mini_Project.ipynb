{
  "nbformat": 4,
  "nbformat_minor": 0,
  "metadata": {
    "colab": {
      "name": "Mini Project.ipynb",
      "provenance": []
    },
    "kernelspec": {
      "name": "python3",
      "display_name": "Python 3"
    }
  },
  "cells": [
    {
      "cell_type": "markdown",
      "metadata": {
        "id": "ZK_CZodjI1md",
        "colab_type": "text"
      },
      "source": [
        "# Contct Application\n",
        "Features\n",
        "* Creating a contact\n",
        "* Search contact\n",
        "* Edit the contact\n",
        "* Delete the contact\n"
      ]
    },
    {
      "cell_type": "code",
      "metadata": {
        "id": "bwzDZBZ2Jg_L",
        "colab_type": "code",
        "colab": {
          "base_uri": "https://localhost:8080/",
          "height": 86
        },
        "outputId": "3478db76-6158-4cfa-cdeb-65bda307c73c"
      },
      "source": [
        "contact={}\n",
        "def addcont(name,phno) :\n",
        " if name not in contact :\n",
        "     contact.update({name:phno})\n",
        " else :\n",
        "    print(\"Already Exist\")\n",
        "    #Search\n",
        "def search(name) :\n",
        " if name not in contact :\n",
        "     print(\"Not Found\")\n",
        " else :\n",
        "    print(\"Name :\",name,\"\\n\",\"Contact No :\",contact[name])\n",
        "    #Edit\n",
        "def edit(name):\n",
        "    if name not in contact :\n",
        "        print(\"Contact Doesn't Exist\")\n",
        "    else :\n",
        "        phno=int(input(\"Enter The Phone No :\"))\n",
        "        contact[name]=phno\n",
        "\n",
        "#Delete\n",
        "def delete(name):\n",
        "    if name not in contact:\n",
        "        print(\"Contact doesn't exist\")\n",
        "    else:\n",
        "        del contact[name]\n",
        "        print(\"Successfully deleted. \")\n",
        "\n",
        "\n",
        "\n",
        "addcont(\"prasad\",1111)\n",
        "search(\"prasad\")\n",
        "delete(\"prasad\")\n",
        "search(\"prasad\")\n",
        "addcont(\"prasad\",1111)\n",
        "edit(\"prasad\")"
      ],
      "execution_count": 27,
      "outputs": [
        {
          "output_type": "stream",
          "text": [
            "Name : prasad \n",
            " Contact No : 1111\n",
            "Not Found\n",
            "Enter The Phone No :9704238871\n"
          ],
          "name": "stdout"
        }
      ]
    },
    {
      "cell_type": "code",
      "metadata": {
        "id": "4wk0tEauTmAg",
        "colab_type": "code",
        "colab": {}
      },
      "source": [
        "def search(name) :\n",
        " if name not in contact :\n",
        "     print(\"Not Found\")\n",
        " else :\n",
        "    print(\"Name :\",name,\"\\n\",\"Contact No :\",contact[name])\n"
      ],
      "execution_count": 0,
      "outputs": []
    },
    {
      "cell_type": "code",
      "metadata": {
        "id": "9QejMBB7Uphi",
        "colab_type": "code",
        "colab": {}
      },
      "source": [
        "def edit(name):\n",
        "    if name not in contact :\n",
        "        print(\"Contact Doesn't Exist\")\n",
        "    else :\n",
        "        phno=int(input(\"Enter The Phone No :\"))\n",
        "        contact[name]=phno"
      ],
      "execution_count": 0,
      "outputs": []
    },
    {
      "cell_type": "code",
      "metadata": {
        "id": "5_ascg5QTgUR",
        "colab_type": "code",
        "colab": {}
      },
      "source": [
        "def delete(name):\n",
        "    if name not in contact:\n",
        "        print(\"Contact doesn't exist\")\n",
        "    else:\n",
        "        del contact[name]"
      ],
      "execution_count": 0,
      "outputs": []
    }
  ]
}